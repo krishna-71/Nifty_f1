{
 "metadata": {
  "language_info": {
   "codemirror_mode": {
    "name": "ipython",
    "version": 3
   },
   "file_extension": ".py",
   "mimetype": "text/x-python",
   "name": "python",
   "nbconvert_exporter": "python",
   "pygments_lexer": "ipython3",
   "version": "3.7.6-final"
  },
  "orig_nbformat": 2,
  "kernelspec": {
   "name": "python3",
   "display_name": "Python 3"
  }
 },
 "nbformat": 4,
 "nbformat_minor": 2,
 "cells": [
  {
   "cell_type": "code",
   "execution_count": 88,
   "metadata": {},
   "outputs": [],
   "source": [
    "import pandas as pd\n",
    "import numpy as np"
   ]
  },
  {
   "source": [],
   "cell_type": "markdown",
   "metadata": {}
  },
  {
   "cell_type": "code",
   "execution_count": 89,
   "metadata": {},
   "outputs": [],
   "source": [
    "dt_old =pd.read_csv(\"nifty_f10.csv\")"
   ]
  },
  {
   "cell_type": "code",
   "execution_count": 90,
   "metadata": {},
   "outputs": [],
   "source": [
    "dt_new=dt_old['CLOSE']"
   ]
  },
  {
   "cell_type": "code",
   "execution_count": 91,
   "metadata": {},
   "outputs": [
    {
     "output_type": "execute_result",
     "data": {
      "text/plain": [
       "0     13198.00\n",
       "1     13194.90\n",
       "2     13187.85\n",
       "3     13189.15\n",
       "4     13177.00\n",
       "        ...   \n",
       "70    13193.50\n",
       "71    13186.45\n",
       "72    13189.65\n",
       "73    13191.85\n",
       "74    13200.10\n",
       "Name: CLOSE, Length: 75, dtype: float64"
      ]
     },
     "metadata": {},
     "execution_count": 91
    }
   ],
   "source": [
    "dt_new"
   ]
  },
  {
   "cell_type": "code",
   "execution_count": 92,
   "metadata": {},
   "outputs": [],
   "source": [
    "dt_col2 = []"
   ]
  },
  {
   "cell_type": "code",
   "execution_count": 93,
   "metadata": {},
   "outputs": [],
   "source": [
    "i,j,k = 0,1,2\n",
    "\n",
    "while k < 75:\n",
    "    if dt_new[i] and dt_new[j] <= dt_new[k]:\n",
    "        dt_col2.append(\"High\")\n",
    "    elif dt_new[i] and dt_new[j] >= dt_new[k]:\n",
    "        dt_col2.append(\"Low\")\n",
    "    elif dt_new[i] >= dt_new[j] >= dt_new[k]:\n",
    "        dt_col2.append(\"Low\")  \n",
    "    elif dt_new[i] <= dt_new[k] >= dt_new[j]:\n",
    "        dt_col2.append(\"High\")\n",
    "    i += 1\n",
    "    j += 1\n",
    "    k += 1"
   ]
  },
  {
   "cell_type": "code",
   "execution_count": 94,
   "metadata": {},
   "outputs": [],
   "source": [
    "dt_col2.insert(0,\"NULL\")\n",
    "dt_col2.insert(1,\"NULL\")"
   ]
  },
  {
   "cell_type": "code",
   "execution_count": 95,
   "metadata": {},
   "outputs": [],
   "source": [
    "dt_col2.remove(dt_col2[0])\n",
    "dt_col2.remove(dt_col2[1])"
   ]
  },
  {
   "cell_type": "code",
   "execution_count": 96,
   "metadata": {},
   "outputs": [
    {
     "output_type": "execute_result",
     "data": {
      "text/plain": [
       "73"
      ]
     },
     "metadata": {},
     "execution_count": 96
    }
   ],
   "source": [
    "len(dt_col2)"
   ]
  },
  {
   "cell_type": "code",
   "execution_count": 97,
   "metadata": {},
   "outputs": [],
   "source": [
    "dt_col2.insert(1,\"NULL\")"
   ]
  },
  {
   "cell_type": "code",
   "execution_count": 98,
   "metadata": {},
   "outputs": [],
   "source": [
    "new_DATA = pd.DataFrame(dt_col2,columns=['NEW CLOSE'])"
   ]
  },
  {
   "cell_type": "code",
   "execution_count": 99,
   "metadata": {},
   "outputs": [
    {
     "output_type": "execute_result",
     "data": {
      "text/plain": [
       "   NEW CLOSE\n",
       "0       NULL\n",
       "1       NULL\n",
       "2       High\n",
       "3        Low\n",
       "4       High\n",
       "..       ...\n",
       "69      High\n",
       "70       Low\n",
       "71      High\n",
       "72      High\n",
       "73      High\n",
       "\n",
       "[74 rows x 1 columns]"
      ],
      "text/html": "<div>\n<style scoped>\n    .dataframe tbody tr th:only-of-type {\n        vertical-align: middle;\n    }\n\n    .dataframe tbody tr th {\n        vertical-align: top;\n    }\n\n    .dataframe thead th {\n        text-align: right;\n    }\n</style>\n<table border=\"1\" class=\"dataframe\">\n  <thead>\n    <tr style=\"text-align: right;\">\n      <th></th>\n      <th>NEW CLOSE</th>\n    </tr>\n  </thead>\n  <tbody>\n    <tr>\n      <th>0</th>\n      <td>NULL</td>\n    </tr>\n    <tr>\n      <th>1</th>\n      <td>NULL</td>\n    </tr>\n    <tr>\n      <th>2</th>\n      <td>High</td>\n    </tr>\n    <tr>\n      <th>3</th>\n      <td>Low</td>\n    </tr>\n    <tr>\n      <th>4</th>\n      <td>High</td>\n    </tr>\n    <tr>\n      <th>...</th>\n      <td>...</td>\n    </tr>\n    <tr>\n      <th>69</th>\n      <td>High</td>\n    </tr>\n    <tr>\n      <th>70</th>\n      <td>Low</td>\n    </tr>\n    <tr>\n      <th>71</th>\n      <td>High</td>\n    </tr>\n    <tr>\n      <th>72</th>\n      <td>High</td>\n    </tr>\n    <tr>\n      <th>73</th>\n      <td>High</td>\n    </tr>\n  </tbody>\n</table>\n<p>74 rows × 1 columns</p>\n</div>"
     },
     "metadata": {},
     "execution_count": 99
    }
   ],
   "source": [
    "new_DATA"
   ]
  },
  {
   "cell_type": "code",
   "execution_count": 100,
   "metadata": {},
   "outputs": [],
   "source": [
    "close_data = pd.DataFrame(dt_new)"
   ]
  },
  {
   "cell_type": "code",
   "execution_count": 101,
   "metadata": {},
   "outputs": [
    {
     "output_type": "execute_result",
     "data": {
      "text/plain": [
       "       CLOSE\n",
       "0   13198.00\n",
       "1   13194.90\n",
       "2   13187.85\n",
       "3   13189.15\n",
       "4   13177.00\n",
       "..       ...\n",
       "70  13193.50\n",
       "71  13186.45\n",
       "72  13189.65\n",
       "73  13191.85\n",
       "74  13200.10\n",
       "\n",
       "[75 rows x 1 columns]"
      ],
      "text/html": "<div>\n<style scoped>\n    .dataframe tbody tr th:only-of-type {\n        vertical-align: middle;\n    }\n\n    .dataframe tbody tr th {\n        vertical-align: top;\n    }\n\n    .dataframe thead th {\n        text-align: right;\n    }\n</style>\n<table border=\"1\" class=\"dataframe\">\n  <thead>\n    <tr style=\"text-align: right;\">\n      <th></th>\n      <th>CLOSE</th>\n    </tr>\n  </thead>\n  <tbody>\n    <tr>\n      <th>0</th>\n      <td>13198.00</td>\n    </tr>\n    <tr>\n      <th>1</th>\n      <td>13194.90</td>\n    </tr>\n    <tr>\n      <th>2</th>\n      <td>13187.85</td>\n    </tr>\n    <tr>\n      <th>3</th>\n      <td>13189.15</td>\n    </tr>\n    <tr>\n      <th>4</th>\n      <td>13177.00</td>\n    </tr>\n    <tr>\n      <th>...</th>\n      <td>...</td>\n    </tr>\n    <tr>\n      <th>70</th>\n      <td>13193.50</td>\n    </tr>\n    <tr>\n      <th>71</th>\n      <td>13186.45</td>\n    </tr>\n    <tr>\n      <th>72</th>\n      <td>13189.65</td>\n    </tr>\n    <tr>\n      <th>73</th>\n      <td>13191.85</td>\n    </tr>\n    <tr>\n      <th>74</th>\n      <td>13200.10</td>\n    </tr>\n  </tbody>\n</table>\n<p>75 rows × 1 columns</p>\n</div>"
     },
     "metadata": {},
     "execution_count": 101
    }
   ],
   "source": [
    "close_data"
   ]
  },
  {
   "cell_type": "code",
   "execution_count": 102,
   "metadata": {},
   "outputs": [],
   "source": [
    "Final_data = pd.concat([close_data,new_DATA],axis=1)"
   ]
  },
  {
   "cell_type": "code",
   "execution_count": 103,
   "metadata": {},
   "outputs": [
    {
     "output_type": "execute_result",
     "data": {
      "text/plain": [
       "       CLOSE NEW CLOSE\n",
       "0   13198.00      NULL\n",
       "1   13194.90      NULL\n",
       "2   13187.85      High\n",
       "3   13189.15       Low\n",
       "4   13177.00      High\n",
       "..       ...       ...\n",
       "70  13193.50       Low\n",
       "71  13186.45      High\n",
       "72  13189.65      High\n",
       "73  13191.85      High\n",
       "74  13200.10       NaN\n",
       "\n",
       "[75 rows x 2 columns]"
      ],
      "text/html": "<div>\n<style scoped>\n    .dataframe tbody tr th:only-of-type {\n        vertical-align: middle;\n    }\n\n    .dataframe tbody tr th {\n        vertical-align: top;\n    }\n\n    .dataframe thead th {\n        text-align: right;\n    }\n</style>\n<table border=\"1\" class=\"dataframe\">\n  <thead>\n    <tr style=\"text-align: right;\">\n      <th></th>\n      <th>CLOSE</th>\n      <th>NEW CLOSE</th>\n    </tr>\n  </thead>\n  <tbody>\n    <tr>\n      <th>0</th>\n      <td>13198.00</td>\n      <td>NULL</td>\n    </tr>\n    <tr>\n      <th>1</th>\n      <td>13194.90</td>\n      <td>NULL</td>\n    </tr>\n    <tr>\n      <th>2</th>\n      <td>13187.85</td>\n      <td>High</td>\n    </tr>\n    <tr>\n      <th>3</th>\n      <td>13189.15</td>\n      <td>Low</td>\n    </tr>\n    <tr>\n      <th>4</th>\n      <td>13177.00</td>\n      <td>High</td>\n    </tr>\n    <tr>\n      <th>...</th>\n      <td>...</td>\n      <td>...</td>\n    </tr>\n    <tr>\n      <th>70</th>\n      <td>13193.50</td>\n      <td>Low</td>\n    </tr>\n    <tr>\n      <th>71</th>\n      <td>13186.45</td>\n      <td>High</td>\n    </tr>\n    <tr>\n      <th>72</th>\n      <td>13189.65</td>\n      <td>High</td>\n    </tr>\n    <tr>\n      <th>73</th>\n      <td>13191.85</td>\n      <td>High</td>\n    </tr>\n    <tr>\n      <th>74</th>\n      <td>13200.10</td>\n      <td>NaN</td>\n    </tr>\n  </tbody>\n</table>\n<p>75 rows × 2 columns</p>\n</div>"
     },
     "metadata": {},
     "execution_count": 103
    }
   ],
   "source": [
    "Final_data"
   ]
  }
 ]
}