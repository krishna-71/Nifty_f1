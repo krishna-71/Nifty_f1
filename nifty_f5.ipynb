{
 "metadata": {
  "language_info": {
   "codemirror_mode": {
    "name": "ipython",
    "version": 3
   },
   "file_extension": ".py",
   "mimetype": "text/x-python",
   "name": "python",
   "nbconvert_exporter": "python",
   "pygments_lexer": "ipython3",
   "version": "3.7.6-final"
  },
  "orig_nbformat": 2,
  "kernelspec": {
   "name": "python3",
   "display_name": "Python 3"
  }
 },
 "nbformat": 4,
 "nbformat_minor": 2,
 "cells": [
  {
   "cell_type": "code",
   "execution_count": null,
   "metadata": {},
   "outputs": [],
   "source": []
  },
  {
   "cell_type": "code",
   "execution_count": 4,
   "metadata": {},
   "outputs": [
    {
     "output_type": "execute_result",
     "data": {
      "text/plain": [
       "        NIFTY       DATE                TIME      OPEN      HIGH       LOW  \\\n",
       "0    NIFTY_F1 2020-12-03 2020-12-07 09:16:00  13210.20  13220.20  13176.00   \n",
       "1    NIFTY_F1 2020-12-03 2020-12-07 09:17:00  13189.80  13197.15  13185.00   \n",
       "2    NIFTY_F1 2020-12-03 2020-12-07 09:18:00  13193.90  13196.85  13188.05   \n",
       "3    NIFTY_F1 2020-12-03 2020-12-07 09:19:00  13195.65  13199.50  13192.20   \n",
       "4    NIFTY_F1 2020-12-03 2020-12-07 09:20:00  13196.25  13199.25  13195.35   \n",
       "..        ...        ...                 ...       ...       ...       ...   \n",
       "370  NIFTY_F1 2020-12-03 2020-12-07 15:26:00  13191.85  13194.65  13191.20   \n",
       "371  NIFTY_F1 2020-12-03 2020-12-07 15:27:00  13193.10  13195.65  13192.90   \n",
       "372  NIFTY_F1 2020-12-03 2020-12-07 15:28:00  13194.90  13196.50  13194.75   \n",
       "373  NIFTY_F1 2020-12-03 2020-12-07 15:29:00  13197.00  13200.00  13196.50   \n",
       "374  NIFTY_F1 2020-12-03 2020-12-07 15:30:00  13199.70  13202.25  13198.55   \n",
       "\n",
       "        CLOSE       X         Y  \n",
       "0    13189.15  230550  11650425  \n",
       "1    13193.00   90150  11650425  \n",
       "2    13195.20   83025  11729400  \n",
       "3    13196.00   74025  11729400  \n",
       "4    13198.00   46650  11729400  \n",
       "..        ...     ...       ...  \n",
       "370  13193.20   57075  12326100  \n",
       "371  13194.70   29925  12326100  \n",
       "372  13196.40   34650  12332325  \n",
       "373  13200.00   54975  12332325  \n",
       "374  13200.10   50550  12332325  \n",
       "\n",
       "[375 rows x 9 columns]"
      ],
      "text/html": "<div>\n<style scoped>\n    .dataframe tbody tr th:only-of-type {\n        vertical-align: middle;\n    }\n\n    .dataframe tbody tr th {\n        vertical-align: top;\n    }\n\n    .dataframe thead th {\n        text-align: right;\n    }\n</style>\n<table border=\"1\" class=\"dataframe\">\n  <thead>\n    <tr style=\"text-align: right;\">\n      <th></th>\n      <th>NIFTY</th>\n      <th>DATE</th>\n      <th>TIME</th>\n      <th>OPEN</th>\n      <th>HIGH</th>\n      <th>LOW</th>\n      <th>CLOSE</th>\n      <th>X</th>\n      <th>Y</th>\n    </tr>\n  </thead>\n  <tbody>\n    <tr>\n      <th>0</th>\n      <td>NIFTY_F1</td>\n      <td>2020-12-03</td>\n      <td>2020-12-07 09:16:00</td>\n      <td>13210.20</td>\n      <td>13220.20</td>\n      <td>13176.00</td>\n      <td>13189.15</td>\n      <td>230550</td>\n      <td>11650425</td>\n    </tr>\n    <tr>\n      <th>1</th>\n      <td>NIFTY_F1</td>\n      <td>2020-12-03</td>\n      <td>2020-12-07 09:17:00</td>\n      <td>13189.80</td>\n      <td>13197.15</td>\n      <td>13185.00</td>\n      <td>13193.00</td>\n      <td>90150</td>\n      <td>11650425</td>\n    </tr>\n    <tr>\n      <th>2</th>\n      <td>NIFTY_F1</td>\n      <td>2020-12-03</td>\n      <td>2020-12-07 09:18:00</td>\n      <td>13193.90</td>\n      <td>13196.85</td>\n      <td>13188.05</td>\n      <td>13195.20</td>\n      <td>83025</td>\n      <td>11729400</td>\n    </tr>\n    <tr>\n      <th>3</th>\n      <td>NIFTY_F1</td>\n      <td>2020-12-03</td>\n      <td>2020-12-07 09:19:00</td>\n      <td>13195.65</td>\n      <td>13199.50</td>\n      <td>13192.20</td>\n      <td>13196.00</td>\n      <td>74025</td>\n      <td>11729400</td>\n    </tr>\n    <tr>\n      <th>4</th>\n      <td>NIFTY_F1</td>\n      <td>2020-12-03</td>\n      <td>2020-12-07 09:20:00</td>\n      <td>13196.25</td>\n      <td>13199.25</td>\n      <td>13195.35</td>\n      <td>13198.00</td>\n      <td>46650</td>\n      <td>11729400</td>\n    </tr>\n    <tr>\n      <th>...</th>\n      <td>...</td>\n      <td>...</td>\n      <td>...</td>\n      <td>...</td>\n      <td>...</td>\n      <td>...</td>\n      <td>...</td>\n      <td>...</td>\n      <td>...</td>\n    </tr>\n    <tr>\n      <th>370</th>\n      <td>NIFTY_F1</td>\n      <td>2020-12-03</td>\n      <td>2020-12-07 15:26:00</td>\n      <td>13191.85</td>\n      <td>13194.65</td>\n      <td>13191.20</td>\n      <td>13193.20</td>\n      <td>57075</td>\n      <td>12326100</td>\n    </tr>\n    <tr>\n      <th>371</th>\n      <td>NIFTY_F1</td>\n      <td>2020-12-03</td>\n      <td>2020-12-07 15:27:00</td>\n      <td>13193.10</td>\n      <td>13195.65</td>\n      <td>13192.90</td>\n      <td>13194.70</td>\n      <td>29925</td>\n      <td>12326100</td>\n    </tr>\n    <tr>\n      <th>372</th>\n      <td>NIFTY_F1</td>\n      <td>2020-12-03</td>\n      <td>2020-12-07 15:28:00</td>\n      <td>13194.90</td>\n      <td>13196.50</td>\n      <td>13194.75</td>\n      <td>13196.40</td>\n      <td>34650</td>\n      <td>12332325</td>\n    </tr>\n    <tr>\n      <th>373</th>\n      <td>NIFTY_F1</td>\n      <td>2020-12-03</td>\n      <td>2020-12-07 15:29:00</td>\n      <td>13197.00</td>\n      <td>13200.00</td>\n      <td>13196.50</td>\n      <td>13200.00</td>\n      <td>54975</td>\n      <td>12332325</td>\n    </tr>\n    <tr>\n      <th>374</th>\n      <td>NIFTY_F1</td>\n      <td>2020-12-03</td>\n      <td>2020-12-07 15:30:00</td>\n      <td>13199.70</td>\n      <td>13202.25</td>\n      <td>13198.55</td>\n      <td>13200.10</td>\n      <td>50550</td>\n      <td>12332325</td>\n    </tr>\n  </tbody>\n</table>\n<p>375 rows × 9 columns</p>\n</div>"
     },
     "metadata": {},
     "execution_count": 4
    }
   ],
   "source": [
    "import pandas as pd\n",
    "import numpy as np\n",
    "df = pd.read_csv(\"C:\\\\Users\\\\Admin\\\\Desktop\\\\NIFTY_F1.csv\",names=['NIFTY','DATE','TIME','OPEN','HIGH','LOW','CLOSE','X','Y'],parse_dates=['DATE','TIME'])\n",
    "df\n",
    "\n"
   ]
  },
  {
   "cell_type": "code",
   "execution_count": 5,
   "metadata": {},
   "outputs": [
    {
     "output_type": "execute_result",
     "data": {
      "text/plain": [
       "        NIFTY       DATE                TIME      OPEN      HIGH       LOW  \\\n",
       "0    NIFTY_F1 2020-12-03 2020-12-07 09:16:00  13210.20  13220.20  13176.00   \n",
       "1    NIFTY_F1 2020-12-03 2020-12-07 09:17:00  13189.80  13197.15  13185.00   \n",
       "2    NIFTY_F1 2020-12-03 2020-12-07 09:18:00  13193.90  13196.85  13188.05   \n",
       "3    NIFTY_F1 2020-12-03 2020-12-07 09:19:00  13195.65  13199.50  13192.20   \n",
       "4    NIFTY_F1 2020-12-03 2020-12-07 09:20:00  13196.25  13199.25  13195.35   \n",
       "..        ...        ...                 ...       ...       ...       ...   \n",
       "370  NIFTY_F1 2020-12-03 2020-12-07 15:26:00  13191.85  13194.65  13191.20   \n",
       "371  NIFTY_F1 2020-12-03 2020-12-07 15:27:00  13193.10  13195.65  13192.90   \n",
       "372  NIFTY_F1 2020-12-03 2020-12-07 15:28:00  13194.90  13196.50  13194.75   \n",
       "373  NIFTY_F1 2020-12-03 2020-12-07 15:29:00  13197.00  13200.00  13196.50   \n",
       "374  NIFTY_F1 2020-12-03 2020-12-07 15:30:00  13199.70  13202.25  13198.55   \n",
       "\n",
       "        CLOSE       X         Y  \n",
       "0    13189.15  230550  11650425  \n",
       "1    13193.00   90150  11650425  \n",
       "2    13195.20   83025  11729400  \n",
       "3    13196.00   74025  11729400  \n",
       "4    13198.00   46650  11729400  \n",
       "..        ...     ...       ...  \n",
       "370  13193.20   57075  12326100  \n",
       "371  13194.70   29925  12326100  \n",
       "372  13196.40   34650  12332325  \n",
       "373  13200.00   54975  12332325  \n",
       "374  13200.10   50550  12332325  \n",
       "\n",
       "[375 rows x 9 columns]"
      ],
      "text/html": "<div>\n<style scoped>\n    .dataframe tbody tr th:only-of-type {\n        vertical-align: middle;\n    }\n\n    .dataframe tbody tr th {\n        vertical-align: top;\n    }\n\n    .dataframe thead th {\n        text-align: right;\n    }\n</style>\n<table border=\"1\" class=\"dataframe\">\n  <thead>\n    <tr style=\"text-align: right;\">\n      <th></th>\n      <th>NIFTY</th>\n      <th>DATE</th>\n      <th>TIME</th>\n      <th>OPEN</th>\n      <th>HIGH</th>\n      <th>LOW</th>\n      <th>CLOSE</th>\n      <th>X</th>\n      <th>Y</th>\n    </tr>\n  </thead>\n  <tbody>\n    <tr>\n      <th>0</th>\n      <td>NIFTY_F1</td>\n      <td>2020-12-03</td>\n      <td>2020-12-07 09:16:00</td>\n      <td>13210.20</td>\n      <td>13220.20</td>\n      <td>13176.00</td>\n      <td>13189.15</td>\n      <td>230550</td>\n      <td>11650425</td>\n    </tr>\n    <tr>\n      <th>1</th>\n      <td>NIFTY_F1</td>\n      <td>2020-12-03</td>\n      <td>2020-12-07 09:17:00</td>\n      <td>13189.80</td>\n      <td>13197.15</td>\n      <td>13185.00</td>\n      <td>13193.00</td>\n      <td>90150</td>\n      <td>11650425</td>\n    </tr>\n    <tr>\n      <th>2</th>\n      <td>NIFTY_F1</td>\n      <td>2020-12-03</td>\n      <td>2020-12-07 09:18:00</td>\n      <td>13193.90</td>\n      <td>13196.85</td>\n      <td>13188.05</td>\n      <td>13195.20</td>\n      <td>83025</td>\n      <td>11729400</td>\n    </tr>\n    <tr>\n      <th>3</th>\n      <td>NIFTY_F1</td>\n      <td>2020-12-03</td>\n      <td>2020-12-07 09:19:00</td>\n      <td>13195.65</td>\n      <td>13199.50</td>\n      <td>13192.20</td>\n      <td>13196.00</td>\n      <td>74025</td>\n      <td>11729400</td>\n    </tr>\n    <tr>\n      <th>4</th>\n      <td>NIFTY_F1</td>\n      <td>2020-12-03</td>\n      <td>2020-12-07 09:20:00</td>\n      <td>13196.25</td>\n      <td>13199.25</td>\n      <td>13195.35</td>\n      <td>13198.00</td>\n      <td>46650</td>\n      <td>11729400</td>\n    </tr>\n    <tr>\n      <th>...</th>\n      <td>...</td>\n      <td>...</td>\n      <td>...</td>\n      <td>...</td>\n      <td>...</td>\n      <td>...</td>\n      <td>...</td>\n      <td>...</td>\n      <td>...</td>\n    </tr>\n    <tr>\n      <th>370</th>\n      <td>NIFTY_F1</td>\n      <td>2020-12-03</td>\n      <td>2020-12-07 15:26:00</td>\n      <td>13191.85</td>\n      <td>13194.65</td>\n      <td>13191.20</td>\n      <td>13193.20</td>\n      <td>57075</td>\n      <td>12326100</td>\n    </tr>\n    <tr>\n      <th>371</th>\n      <td>NIFTY_F1</td>\n      <td>2020-12-03</td>\n      <td>2020-12-07 15:27:00</td>\n      <td>13193.10</td>\n      <td>13195.65</td>\n      <td>13192.90</td>\n      <td>13194.70</td>\n      <td>29925</td>\n      <td>12326100</td>\n    </tr>\n    <tr>\n      <th>372</th>\n      <td>NIFTY_F1</td>\n      <td>2020-12-03</td>\n      <td>2020-12-07 15:28:00</td>\n      <td>13194.90</td>\n      <td>13196.50</td>\n      <td>13194.75</td>\n      <td>13196.40</td>\n      <td>34650</td>\n      <td>12332325</td>\n    </tr>\n    <tr>\n      <th>373</th>\n      <td>NIFTY_F1</td>\n      <td>2020-12-03</td>\n      <td>2020-12-07 15:29:00</td>\n      <td>13197.00</td>\n      <td>13200.00</td>\n      <td>13196.50</td>\n      <td>13200.00</td>\n      <td>54975</td>\n      <td>12332325</td>\n    </tr>\n    <tr>\n      <th>374</th>\n      <td>NIFTY_F1</td>\n      <td>2020-12-03</td>\n      <td>2020-12-07 15:30:00</td>\n      <td>13199.70</td>\n      <td>13202.25</td>\n      <td>13198.55</td>\n      <td>13200.10</td>\n      <td>50550</td>\n      <td>12332325</td>\n    </tr>\n  </tbody>\n</table>\n<p>375 rows × 9 columns</p>\n</div>"
     },
     "metadata": {},
     "execution_count": 5
    }
   ],
   "source": [
    "df\n"
   ]
  },
  {
   "cell_type": "code",
   "execution_count": 6,
   "metadata": {},
   "outputs": [
    {
     "output_type": "stream",
     "name": "stdout",
     "text": [
      "<class 'pandas.core.frame.DataFrame'>\nRangeIndex: 375 entries, 0 to 374\nData columns (total 9 columns):\n #   Column  Non-Null Count  Dtype         \n---  ------  --------------  -----         \n 0   NIFTY   375 non-null    object        \n 1   DATE    375 non-null    datetime64[ns]\n 2   TIME    375 non-null    datetime64[ns]\n 3   OPEN    375 non-null    float64       \n 4   HIGH    375 non-null    float64       \n 5   LOW     375 non-null    float64       \n 6   CLOSE   375 non-null    float64       \n 7   X       375 non-null    int64         \n 8   Y       375 non-null    int64         \ndtypes: datetime64[ns](2), float64(4), int64(2), object(1)\nmemory usage: 26.5+ KB\n"
     ]
    }
   ],
   "source": [
    "df.info()"
   ]
  },
  {
   "cell_type": "code",
   "execution_count": 7,
   "metadata": {},
   "outputs": [
    {
     "output_type": "execute_result",
     "data": {
      "text/plain": [
       "     NIFTY   DATE   TIME   OPEN   HIGH    LOW  CLOSE      X      Y\n",
       "0    False  False  False  False  False  False  False  False  False\n",
       "1    False  False  False  False  False  False  False  False  False\n",
       "2    False  False  False  False  False  False  False  False  False\n",
       "3    False  False  False  False  False  False  False  False  False\n",
       "4    False  False  False  False  False  False  False  False  False\n",
       "..     ...    ...    ...    ...    ...    ...    ...    ...    ...\n",
       "370  False  False  False  False  False  False  False  False  False\n",
       "371  False  False  False  False  False  False  False  False  False\n",
       "372  False  False  False  False  False  False  False  False  False\n",
       "373  False  False  False  False  False  False  False  False  False\n",
       "374  False  False  False  False  False  False  False  False  False\n",
       "\n",
       "[375 rows x 9 columns]"
      ],
      "text/html": "<div>\n<style scoped>\n    .dataframe tbody tr th:only-of-type {\n        vertical-align: middle;\n    }\n\n    .dataframe tbody tr th {\n        vertical-align: top;\n    }\n\n    .dataframe thead th {\n        text-align: right;\n    }\n</style>\n<table border=\"1\" class=\"dataframe\">\n  <thead>\n    <tr style=\"text-align: right;\">\n      <th></th>\n      <th>NIFTY</th>\n      <th>DATE</th>\n      <th>TIME</th>\n      <th>OPEN</th>\n      <th>HIGH</th>\n      <th>LOW</th>\n      <th>CLOSE</th>\n      <th>X</th>\n      <th>Y</th>\n    </tr>\n  </thead>\n  <tbody>\n    <tr>\n      <th>0</th>\n      <td>False</td>\n      <td>False</td>\n      <td>False</td>\n      <td>False</td>\n      <td>False</td>\n      <td>False</td>\n      <td>False</td>\n      <td>False</td>\n      <td>False</td>\n    </tr>\n    <tr>\n      <th>1</th>\n      <td>False</td>\n      <td>False</td>\n      <td>False</td>\n      <td>False</td>\n      <td>False</td>\n      <td>False</td>\n      <td>False</td>\n      <td>False</td>\n      <td>False</td>\n    </tr>\n    <tr>\n      <th>2</th>\n      <td>False</td>\n      <td>False</td>\n      <td>False</td>\n      <td>False</td>\n      <td>False</td>\n      <td>False</td>\n      <td>False</td>\n      <td>False</td>\n      <td>False</td>\n    </tr>\n    <tr>\n      <th>3</th>\n      <td>False</td>\n      <td>False</td>\n      <td>False</td>\n      <td>False</td>\n      <td>False</td>\n      <td>False</td>\n      <td>False</td>\n      <td>False</td>\n      <td>False</td>\n    </tr>\n    <tr>\n      <th>4</th>\n      <td>False</td>\n      <td>False</td>\n      <td>False</td>\n      <td>False</td>\n      <td>False</td>\n      <td>False</td>\n      <td>False</td>\n      <td>False</td>\n      <td>False</td>\n    </tr>\n    <tr>\n      <th>...</th>\n      <td>...</td>\n      <td>...</td>\n      <td>...</td>\n      <td>...</td>\n      <td>...</td>\n      <td>...</td>\n      <td>...</td>\n      <td>...</td>\n      <td>...</td>\n    </tr>\n    <tr>\n      <th>370</th>\n      <td>False</td>\n      <td>False</td>\n      <td>False</td>\n      <td>False</td>\n      <td>False</td>\n      <td>False</td>\n      <td>False</td>\n      <td>False</td>\n      <td>False</td>\n    </tr>\n    <tr>\n      <th>371</th>\n      <td>False</td>\n      <td>False</td>\n      <td>False</td>\n      <td>False</td>\n      <td>False</td>\n      <td>False</td>\n      <td>False</td>\n      <td>False</td>\n      <td>False</td>\n    </tr>\n    <tr>\n      <th>372</th>\n      <td>False</td>\n      <td>False</td>\n      <td>False</td>\n      <td>False</td>\n      <td>False</td>\n      <td>False</td>\n      <td>False</td>\n      <td>False</td>\n      <td>False</td>\n    </tr>\n    <tr>\n      <th>373</th>\n      <td>False</td>\n      <td>False</td>\n      <td>False</td>\n      <td>False</td>\n      <td>False</td>\n      <td>False</td>\n      <td>False</td>\n      <td>False</td>\n      <td>False</td>\n    </tr>\n    <tr>\n      <th>374</th>\n      <td>False</td>\n      <td>False</td>\n      <td>False</td>\n      <td>False</td>\n      <td>False</td>\n      <td>False</td>\n      <td>False</td>\n      <td>False</td>\n      <td>False</td>\n    </tr>\n  </tbody>\n</table>\n<p>375 rows × 9 columns</p>\n</div>"
     },
     "metadata": {},
     "execution_count": 7
    }
   ],
   "source": [
    "df.isnull()\n",
    "\n",
    "\n"
   ]
  },
  {
   "cell_type": "code",
   "execution_count": 11,
   "metadata": {},
   "outputs": [
    {
     "output_type": "error",
     "ename": "KeyError",
     "evalue": "\"['NIFTY'] not found in axis\"",
     "traceback": [
      "\u001b[1;31m---------------------------------------------------------------------------\u001b[0m",
      "\u001b[1;31mKeyError\u001b[0m                                  Traceback (most recent call last)",
      "\u001b[1;32m<ipython-input-11-76f01bf6f278>\u001b[0m in \u001b[0;36m<module>\u001b[1;34m\u001b[0m\n\u001b[1;32m----> 1\u001b[1;33m \u001b[0mdf\u001b[0m \u001b[1;33m=\u001b[0m \u001b[0mdf\u001b[0m\u001b[1;33m.\u001b[0m\u001b[0mdrop\u001b[0m\u001b[1;33m(\u001b[0m\u001b[1;34m\"NIFTY\"\u001b[0m\u001b[1;33m,\u001b[0m\u001b[0maxis\u001b[0m\u001b[1;33m=\u001b[0m\u001b[1;36m0\u001b[0m\u001b[1;33m)\u001b[0m\u001b[1;33m\u001b[0m\u001b[1;33m\u001b[0m\u001b[0m\n\u001b[0m",
      "\u001b[1;32m~\\anaconda3\\lib\\site-packages\\pandas\\core\\frame.py\u001b[0m in \u001b[0;36mdrop\u001b[1;34m(self, labels, axis, index, columns, level, inplace, errors)\u001b[0m\n\u001b[0;32m   3995\u001b[0m             \u001b[0mlevel\u001b[0m\u001b[1;33m=\u001b[0m\u001b[0mlevel\u001b[0m\u001b[1;33m,\u001b[0m\u001b[1;33m\u001b[0m\u001b[1;33m\u001b[0m\u001b[0m\n\u001b[0;32m   3996\u001b[0m             \u001b[0minplace\u001b[0m\u001b[1;33m=\u001b[0m\u001b[0minplace\u001b[0m\u001b[1;33m,\u001b[0m\u001b[1;33m\u001b[0m\u001b[1;33m\u001b[0m\u001b[0m\n\u001b[1;32m-> 3997\u001b[1;33m             \u001b[0merrors\u001b[0m\u001b[1;33m=\u001b[0m\u001b[0merrors\u001b[0m\u001b[1;33m,\u001b[0m\u001b[1;33m\u001b[0m\u001b[1;33m\u001b[0m\u001b[0m\n\u001b[0m\u001b[0;32m   3998\u001b[0m         )\n\u001b[0;32m   3999\u001b[0m \u001b[1;33m\u001b[0m\u001b[0m\n",
      "\u001b[1;32m~\\anaconda3\\lib\\site-packages\\pandas\\core\\generic.py\u001b[0m in \u001b[0;36mdrop\u001b[1;34m(self, labels, axis, index, columns, level, inplace, errors)\u001b[0m\n\u001b[0;32m   3934\u001b[0m         \u001b[1;32mfor\u001b[0m \u001b[0maxis\u001b[0m\u001b[1;33m,\u001b[0m \u001b[0mlabels\u001b[0m \u001b[1;32min\u001b[0m \u001b[0maxes\u001b[0m\u001b[1;33m.\u001b[0m\u001b[0mitems\u001b[0m\u001b[1;33m(\u001b[0m\u001b[1;33m)\u001b[0m\u001b[1;33m:\u001b[0m\u001b[1;33m\u001b[0m\u001b[1;33m\u001b[0m\u001b[0m\n\u001b[0;32m   3935\u001b[0m             \u001b[1;32mif\u001b[0m \u001b[0mlabels\u001b[0m \u001b[1;32mis\u001b[0m \u001b[1;32mnot\u001b[0m \u001b[1;32mNone\u001b[0m\u001b[1;33m:\u001b[0m\u001b[1;33m\u001b[0m\u001b[1;33m\u001b[0m\u001b[0m\n\u001b[1;32m-> 3936\u001b[1;33m                 \u001b[0mobj\u001b[0m \u001b[1;33m=\u001b[0m \u001b[0mobj\u001b[0m\u001b[1;33m.\u001b[0m\u001b[0m_drop_axis\u001b[0m\u001b[1;33m(\u001b[0m\u001b[0mlabels\u001b[0m\u001b[1;33m,\u001b[0m \u001b[0maxis\u001b[0m\u001b[1;33m,\u001b[0m \u001b[0mlevel\u001b[0m\u001b[1;33m=\u001b[0m\u001b[0mlevel\u001b[0m\u001b[1;33m,\u001b[0m \u001b[0merrors\u001b[0m\u001b[1;33m=\u001b[0m\u001b[0merrors\u001b[0m\u001b[1;33m)\u001b[0m\u001b[1;33m\u001b[0m\u001b[1;33m\u001b[0m\u001b[0m\n\u001b[0m\u001b[0;32m   3937\u001b[0m \u001b[1;33m\u001b[0m\u001b[0m\n\u001b[0;32m   3938\u001b[0m         \u001b[1;32mif\u001b[0m \u001b[0minplace\u001b[0m\u001b[1;33m:\u001b[0m\u001b[1;33m\u001b[0m\u001b[1;33m\u001b[0m\u001b[0m\n",
      "\u001b[1;32m~\\anaconda3\\lib\\site-packages\\pandas\\core\\generic.py\u001b[0m in \u001b[0;36m_drop_axis\u001b[1;34m(self, labels, axis, level, errors)\u001b[0m\n\u001b[0;32m   3968\u001b[0m                 \u001b[0mnew_axis\u001b[0m \u001b[1;33m=\u001b[0m \u001b[0maxis\u001b[0m\u001b[1;33m.\u001b[0m\u001b[0mdrop\u001b[0m\u001b[1;33m(\u001b[0m\u001b[0mlabels\u001b[0m\u001b[1;33m,\u001b[0m \u001b[0mlevel\u001b[0m\u001b[1;33m=\u001b[0m\u001b[0mlevel\u001b[0m\u001b[1;33m,\u001b[0m \u001b[0merrors\u001b[0m\u001b[1;33m=\u001b[0m\u001b[0merrors\u001b[0m\u001b[1;33m)\u001b[0m\u001b[1;33m\u001b[0m\u001b[1;33m\u001b[0m\u001b[0m\n\u001b[0;32m   3969\u001b[0m             \u001b[1;32melse\u001b[0m\u001b[1;33m:\u001b[0m\u001b[1;33m\u001b[0m\u001b[1;33m\u001b[0m\u001b[0m\n\u001b[1;32m-> 3970\u001b[1;33m                 \u001b[0mnew_axis\u001b[0m \u001b[1;33m=\u001b[0m \u001b[0maxis\u001b[0m\u001b[1;33m.\u001b[0m\u001b[0mdrop\u001b[0m\u001b[1;33m(\u001b[0m\u001b[0mlabels\u001b[0m\u001b[1;33m,\u001b[0m \u001b[0merrors\u001b[0m\u001b[1;33m=\u001b[0m\u001b[0merrors\u001b[0m\u001b[1;33m)\u001b[0m\u001b[1;33m\u001b[0m\u001b[1;33m\u001b[0m\u001b[0m\n\u001b[0m\u001b[0;32m   3971\u001b[0m             \u001b[0mresult\u001b[0m \u001b[1;33m=\u001b[0m \u001b[0mself\u001b[0m\u001b[1;33m.\u001b[0m\u001b[0mreindex\u001b[0m\u001b[1;33m(\u001b[0m\u001b[1;33m**\u001b[0m\u001b[1;33m{\u001b[0m\u001b[0maxis_name\u001b[0m\u001b[1;33m:\u001b[0m \u001b[0mnew_axis\u001b[0m\u001b[1;33m}\u001b[0m\u001b[1;33m)\u001b[0m\u001b[1;33m\u001b[0m\u001b[1;33m\u001b[0m\u001b[0m\n\u001b[0;32m   3972\u001b[0m \u001b[1;33m\u001b[0m\u001b[0m\n",
      "\u001b[1;32m~\\anaconda3\\lib\\site-packages\\pandas\\core\\indexes\\base.py\u001b[0m in \u001b[0;36mdrop\u001b[1;34m(self, labels, errors)\u001b[0m\n\u001b[0;32m   5016\u001b[0m         \u001b[1;32mif\u001b[0m \u001b[0mmask\u001b[0m\u001b[1;33m.\u001b[0m\u001b[0many\u001b[0m\u001b[1;33m(\u001b[0m\u001b[1;33m)\u001b[0m\u001b[1;33m:\u001b[0m\u001b[1;33m\u001b[0m\u001b[1;33m\u001b[0m\u001b[0m\n\u001b[0;32m   5017\u001b[0m             \u001b[1;32mif\u001b[0m \u001b[0merrors\u001b[0m \u001b[1;33m!=\u001b[0m \u001b[1;34m\"ignore\"\u001b[0m\u001b[1;33m:\u001b[0m\u001b[1;33m\u001b[0m\u001b[1;33m\u001b[0m\u001b[0m\n\u001b[1;32m-> 5018\u001b[1;33m                 \u001b[1;32mraise\u001b[0m \u001b[0mKeyError\u001b[0m\u001b[1;33m(\u001b[0m\u001b[1;34mf\"{labels[mask]} not found in axis\"\u001b[0m\u001b[1;33m)\u001b[0m\u001b[1;33m\u001b[0m\u001b[1;33m\u001b[0m\u001b[0m\n\u001b[0m\u001b[0;32m   5019\u001b[0m             \u001b[0mindexer\u001b[0m \u001b[1;33m=\u001b[0m \u001b[0mindexer\u001b[0m\u001b[1;33m[\u001b[0m\u001b[1;33m~\u001b[0m\u001b[0mmask\u001b[0m\u001b[1;33m]\u001b[0m\u001b[1;33m\u001b[0m\u001b[1;33m\u001b[0m\u001b[0m\n\u001b[0;32m   5020\u001b[0m         \u001b[1;32mreturn\u001b[0m \u001b[0mself\u001b[0m\u001b[1;33m.\u001b[0m\u001b[0mdelete\u001b[0m\u001b[1;33m(\u001b[0m\u001b[0mindexer\u001b[0m\u001b[1;33m)\u001b[0m\u001b[1;33m\u001b[0m\u001b[1;33m\u001b[0m\u001b[0m\n",
      "\u001b[1;31mKeyError\u001b[0m: \"['NIFTY'] not found in axis\""
     ]
    }
   ],
   "source": [
    "df = df.drop(\"NIFTY\",axis=1)"
   ]
  },
  {
   "cell_type": "code",
   "execution_count": 13,
   "metadata": {},
   "outputs": [
    {
     "output_type": "error",
     "ename": "KeyError",
     "evalue": "\"None of ['TIME'] are in the columns\"",
     "traceback": [
      "\u001b[1;31m---------------------------------------------------------------------------\u001b[0m",
      "\u001b[1;31mKeyError\u001b[0m                                  Traceback (most recent call last)",
      "\u001b[1;32m<ipython-input-13-b6e46ef93980>\u001b[0m in \u001b[0;36m<module>\u001b[1;34m\u001b[0m\n\u001b[1;32m----> 1\u001b[1;33m \u001b[0mdf\u001b[0m\u001b[1;33m.\u001b[0m\u001b[0mset_index\u001b[0m\u001b[1;33m(\u001b[0m\u001b[1;34m'TIME'\u001b[0m\u001b[1;33m,\u001b[0m\u001b[0minplace\u001b[0m\u001b[1;33m=\u001b[0m\u001b[1;32mTrue\u001b[0m\u001b[1;33m)\u001b[0m\u001b[1;33m\u001b[0m\u001b[1;33m\u001b[0m\u001b[0m\n\u001b[0m",
      "\u001b[1;32m~\\anaconda3\\lib\\site-packages\\pandas\\core\\frame.py\u001b[0m in \u001b[0;36mset_index\u001b[1;34m(self, keys, drop, append, inplace, verify_integrity)\u001b[0m\n\u001b[0;32m   4301\u001b[0m \u001b[1;33m\u001b[0m\u001b[0m\n\u001b[0;32m   4302\u001b[0m         \u001b[1;32mif\u001b[0m \u001b[0mmissing\u001b[0m\u001b[1;33m:\u001b[0m\u001b[1;33m\u001b[0m\u001b[1;33m\u001b[0m\u001b[0m\n\u001b[1;32m-> 4303\u001b[1;33m             \u001b[1;32mraise\u001b[0m \u001b[0mKeyError\u001b[0m\u001b[1;33m(\u001b[0m\u001b[1;34mf\"None of {missing} are in the columns\"\u001b[0m\u001b[1;33m)\u001b[0m\u001b[1;33m\u001b[0m\u001b[1;33m\u001b[0m\u001b[0m\n\u001b[0m\u001b[0;32m   4304\u001b[0m \u001b[1;33m\u001b[0m\u001b[0m\n\u001b[0;32m   4305\u001b[0m         \u001b[1;32mif\u001b[0m \u001b[0minplace\u001b[0m\u001b[1;33m:\u001b[0m\u001b[1;33m\u001b[0m\u001b[1;33m\u001b[0m\u001b[0m\n",
      "\u001b[1;31mKeyError\u001b[0m: \"None of ['TIME'] are in the columns\""
     ]
    }
   ],
   "source": [
    "df.set_index('TIME',inplace=True)"
   ]
  },
  {
   "cell_type": "code",
   "execution_count": 14,
   "metadata": {},
   "outputs": [
    {
     "output_type": "execute_result",
     "data": {
      "text/plain": [
       "                         OPEN      HIGH       LOW     CLOSE       X         Y\n",
       "TIME                                                                         \n",
       "2020-12-07 09:16:00  13210.20  13220.20  13176.00  13189.15  230550  11650425\n",
       "2020-12-07 09:17:00  13189.80  13197.15  13185.00  13193.00   90150  11650425\n",
       "2020-12-07 09:18:00  13193.90  13196.85  13188.05  13195.20   83025  11729400\n",
       "2020-12-07 09:19:00  13195.65  13199.50  13192.20  13196.00   74025  11729400\n",
       "2020-12-07 09:20:00  13196.25  13199.25  13195.35  13198.00   46650  11729400\n",
       "...                       ...       ...       ...       ...     ...       ...\n",
       "2020-12-07 15:26:00  13191.85  13194.65  13191.20  13193.20   57075  12326100\n",
       "2020-12-07 15:27:00  13193.10  13195.65  13192.90  13194.70   29925  12326100\n",
       "2020-12-07 15:28:00  13194.90  13196.50  13194.75  13196.40   34650  12332325\n",
       "2020-12-07 15:29:00  13197.00  13200.00  13196.50  13200.00   54975  12332325\n",
       "2020-12-07 15:30:00  13199.70  13202.25  13198.55  13200.10   50550  12332325\n",
       "\n",
       "[375 rows x 6 columns]"
      ],
      "text/html": "<div>\n<style scoped>\n    .dataframe tbody tr th:only-of-type {\n        vertical-align: middle;\n    }\n\n    .dataframe tbody tr th {\n        vertical-align: top;\n    }\n\n    .dataframe thead th {\n        text-align: right;\n    }\n</style>\n<table border=\"1\" class=\"dataframe\">\n  <thead>\n    <tr style=\"text-align: right;\">\n      <th></th>\n      <th>OPEN</th>\n      <th>HIGH</th>\n      <th>LOW</th>\n      <th>CLOSE</th>\n      <th>X</th>\n      <th>Y</th>\n    </tr>\n    <tr>\n      <th>TIME</th>\n      <th></th>\n      <th></th>\n      <th></th>\n      <th></th>\n      <th></th>\n      <th></th>\n    </tr>\n  </thead>\n  <tbody>\n    <tr>\n      <th>2020-12-07 09:16:00</th>\n      <td>13210.20</td>\n      <td>13220.20</td>\n      <td>13176.00</td>\n      <td>13189.15</td>\n      <td>230550</td>\n      <td>11650425</td>\n    </tr>\n    <tr>\n      <th>2020-12-07 09:17:00</th>\n      <td>13189.80</td>\n      <td>13197.15</td>\n      <td>13185.00</td>\n      <td>13193.00</td>\n      <td>90150</td>\n      <td>11650425</td>\n    </tr>\n    <tr>\n      <th>2020-12-07 09:18:00</th>\n      <td>13193.90</td>\n      <td>13196.85</td>\n      <td>13188.05</td>\n      <td>13195.20</td>\n      <td>83025</td>\n      <td>11729400</td>\n    </tr>\n    <tr>\n      <th>2020-12-07 09:19:00</th>\n      <td>13195.65</td>\n      <td>13199.50</td>\n      <td>13192.20</td>\n      <td>13196.00</td>\n      <td>74025</td>\n      <td>11729400</td>\n    </tr>\n    <tr>\n      <th>2020-12-07 09:20:00</th>\n      <td>13196.25</td>\n      <td>13199.25</td>\n      <td>13195.35</td>\n      <td>13198.00</td>\n      <td>46650</td>\n      <td>11729400</td>\n    </tr>\n    <tr>\n      <th>...</th>\n      <td>...</td>\n      <td>...</td>\n      <td>...</td>\n      <td>...</td>\n      <td>...</td>\n      <td>...</td>\n    </tr>\n    <tr>\n      <th>2020-12-07 15:26:00</th>\n      <td>13191.85</td>\n      <td>13194.65</td>\n      <td>13191.20</td>\n      <td>13193.20</td>\n      <td>57075</td>\n      <td>12326100</td>\n    </tr>\n    <tr>\n      <th>2020-12-07 15:27:00</th>\n      <td>13193.10</td>\n      <td>13195.65</td>\n      <td>13192.90</td>\n      <td>13194.70</td>\n      <td>29925</td>\n      <td>12326100</td>\n    </tr>\n    <tr>\n      <th>2020-12-07 15:28:00</th>\n      <td>13194.90</td>\n      <td>13196.50</td>\n      <td>13194.75</td>\n      <td>13196.40</td>\n      <td>34650</td>\n      <td>12332325</td>\n    </tr>\n    <tr>\n      <th>2020-12-07 15:29:00</th>\n      <td>13197.00</td>\n      <td>13200.00</td>\n      <td>13196.50</td>\n      <td>13200.00</td>\n      <td>54975</td>\n      <td>12332325</td>\n    </tr>\n    <tr>\n      <th>2020-12-07 15:30:00</th>\n      <td>13199.70</td>\n      <td>13202.25</td>\n      <td>13198.55</td>\n      <td>13200.10</td>\n      <td>50550</td>\n      <td>12332325</td>\n    </tr>\n  </tbody>\n</table>\n<p>375 rows × 6 columns</p>\n</div>"
     },
     "metadata": {},
     "execution_count": 14
    }
   ],
   "source": [
    "df.drop(\"DATE\",axis=1)"
   ]
  },
  {
   "cell_type": "code",
   "execution_count": 20,
   "metadata": {},
   "outputs": [],
   "source": [
    "NIFTY = df.groupby(pd.Grouper(freq='5Min',closed='right',label='right')).agg({\n",
    "                                        \"OPEN\":  \"first\",\n",
    "                                        \"HIGH\":  \"max\",\n",
    "                                        \"LOW\":   \"min\",\n",
    "                                        \"CLOSE\": \"last\",\n",
    "                                        \"X\": \"sum\",\n",
    "                                        \"Y\" :\"sum\"\n",
    "                                    })"
   ]
  },
  {
   "cell_type": "code",
   "execution_count": 21,
   "metadata": {},
   "outputs": [
    {
     "output_type": "execute_result",
     "data": {
      "text/plain": [
       "                         OPEN      HIGH       LOW     CLOSE       X         Y\n",
       "TIME                                                                         \n",
       "2020-12-07 09:20:00  13210.20  13220.20  13176.00  13198.00  524400  58489050\n",
       "2020-12-07 09:25:00  13196.35  13201.30  13181.50  13194.90  226725  58912275\n",
       "2020-12-07 09:30:00  13195.00  13197.10  13183.60  13187.85  113325  59038350\n",
       "2020-12-07 09:35:00  13188.60  13193.00  13185.75  13189.15  101775  59072625\n",
       "2020-12-07 09:40:00  13189.75  13190.80  13171.05  13177.00  148200  59192700\n",
       "...                       ...       ...       ...       ...     ...       ...\n",
       "2020-12-07 15:10:00  13180.90  13194.95  13180.00  13193.50   84675  61803900\n",
       "2020-12-07 15:15:00  13193.10  13193.75  13185.65  13186.45  121650  61855950\n",
       "2020-12-07 15:20:00  13186.45  13190.35  13185.00  13189.65  126150  61804425\n",
       "2020-12-07 15:25:00  13189.10  13192.50  13188.00  13191.85  194250  61688550\n",
       "2020-12-07 15:30:00  13191.85  13202.25  13191.20  13200.10  227175  61649175\n",
       "\n",
       "[75 rows x 6 columns]"
      ],
      "text/html": "<div>\n<style scoped>\n    .dataframe tbody tr th:only-of-type {\n        vertical-align: middle;\n    }\n\n    .dataframe tbody tr th {\n        vertical-align: top;\n    }\n\n    .dataframe thead th {\n        text-align: right;\n    }\n</style>\n<table border=\"1\" class=\"dataframe\">\n  <thead>\n    <tr style=\"text-align: right;\">\n      <th></th>\n      <th>OPEN</th>\n      <th>HIGH</th>\n      <th>LOW</th>\n      <th>CLOSE</th>\n      <th>X</th>\n      <th>Y</th>\n    </tr>\n    <tr>\n      <th>TIME</th>\n      <th></th>\n      <th></th>\n      <th></th>\n      <th></th>\n      <th></th>\n      <th></th>\n    </tr>\n  </thead>\n  <tbody>\n    <tr>\n      <th>2020-12-07 09:20:00</th>\n      <td>13210.20</td>\n      <td>13220.20</td>\n      <td>13176.00</td>\n      <td>13198.00</td>\n      <td>524400</td>\n      <td>58489050</td>\n    </tr>\n    <tr>\n      <th>2020-12-07 09:25:00</th>\n      <td>13196.35</td>\n      <td>13201.30</td>\n      <td>13181.50</td>\n      <td>13194.90</td>\n      <td>226725</td>\n      <td>58912275</td>\n    </tr>\n    <tr>\n      <th>2020-12-07 09:30:00</th>\n      <td>13195.00</td>\n      <td>13197.10</td>\n      <td>13183.60</td>\n      <td>13187.85</td>\n      <td>113325</td>\n      <td>59038350</td>\n    </tr>\n    <tr>\n      <th>2020-12-07 09:35:00</th>\n      <td>13188.60</td>\n      <td>13193.00</td>\n      <td>13185.75</td>\n      <td>13189.15</td>\n      <td>101775</td>\n      <td>59072625</td>\n    </tr>\n    <tr>\n      <th>2020-12-07 09:40:00</th>\n      <td>13189.75</td>\n      <td>13190.80</td>\n      <td>13171.05</td>\n      <td>13177.00</td>\n      <td>148200</td>\n      <td>59192700</td>\n    </tr>\n    <tr>\n      <th>...</th>\n      <td>...</td>\n      <td>...</td>\n      <td>...</td>\n      <td>...</td>\n      <td>...</td>\n      <td>...</td>\n    </tr>\n    <tr>\n      <th>2020-12-07 15:10:00</th>\n      <td>13180.90</td>\n      <td>13194.95</td>\n      <td>13180.00</td>\n      <td>13193.50</td>\n      <td>84675</td>\n      <td>61803900</td>\n    </tr>\n    <tr>\n      <th>2020-12-07 15:15:00</th>\n      <td>13193.10</td>\n      <td>13193.75</td>\n      <td>13185.65</td>\n      <td>13186.45</td>\n      <td>121650</td>\n      <td>61855950</td>\n    </tr>\n    <tr>\n      <th>2020-12-07 15:20:00</th>\n      <td>13186.45</td>\n      <td>13190.35</td>\n      <td>13185.00</td>\n      <td>13189.65</td>\n      <td>126150</td>\n      <td>61804425</td>\n    </tr>\n    <tr>\n      <th>2020-12-07 15:25:00</th>\n      <td>13189.10</td>\n      <td>13192.50</td>\n      <td>13188.00</td>\n      <td>13191.85</td>\n      <td>194250</td>\n      <td>61688550</td>\n    </tr>\n    <tr>\n      <th>2020-12-07 15:30:00</th>\n      <td>13191.85</td>\n      <td>13202.25</td>\n      <td>13191.20</td>\n      <td>13200.10</td>\n      <td>227175</td>\n      <td>61649175</td>\n    </tr>\n  </tbody>\n</table>\n<p>75 rows × 6 columns</p>\n</div>"
     },
     "metadata": {},
     "execution_count": 21
    }
   ],
   "source": [
    "NIFTY"
   ]
  }
 ]
}